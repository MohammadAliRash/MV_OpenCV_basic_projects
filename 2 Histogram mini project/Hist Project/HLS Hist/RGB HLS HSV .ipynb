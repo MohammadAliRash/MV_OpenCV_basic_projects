{
 "cells": [
  {
   "cell_type": "code",
   "execution_count": null,
   "id": "26502735-502f-4c58-a972-e95d5405e575",
   "metadata": {
    "tags": []
   },
   "outputs": [],
   "source": [
    "import cv2\n",
    "import matplotlib.pyplot as plt\n",
    "import numpy as np"
   ]
  },
  {
   "cell_type": "code",
   "execution_count": null,
   "id": "996c64c7-6323-469f-b826-98da06955348",
   "metadata": {
    "tags": []
   },
   "outputs": [],
   "source": [
    "#####################################################   creating RGB image"
   ]
  },
  {
   "cell_type": "code",
   "execution_count": null,
   "id": "15f8cea5-6de2-47af-8392-54479d315d58",
   "metadata": {
    "tags": []
   },
   "outputs": [],
   "source": [
    "#reading img\n",
    "RGB_img = cv2.imread('2.jpg')\n",
    "\n",
    "#chechikng\n",
    "print(RGB_img.shape)\n",
    "\n",
    "#showing\n",
    "plt.imshow(RGB_img)\n",
    "plt.title('RGB_img')\n",
    "\n",
    "#cv reads picture like BGR"
   ]
  },
  {
   "cell_type": "code",
   "execution_count": null,
   "id": "6a45bc65-9595-4569-a527-a952d61b59f8",
   "metadata": {
    "tags": []
   },
   "outputs": [],
   "source": [
    "#RGB image fixing\n",
    "RGB_img_fixed = cv2.cvtColor(RGB_img,cv2.COLOR_BGR2RGB)\n",
    "\n",
    "#cheching\n",
    "print(RGB_img_fixed.shape)\n",
    "\n",
    "#showing\n",
    "plt.imshow(RGB_img_fixed)\n",
    "plt.title('RGB_img_fixed')"
   ]
  },
  {
   "cell_type": "code",
   "execution_count": null,
   "id": "7d3338f8-2432-4e3d-9d1c-821bcdd3f147",
   "metadata": {
    "tags": []
   },
   "outputs": [],
   "source": [
    "#hist for R channel\n",
    "hist_vals0 = cv2.calcHist([RGB_img_fixed], channels=[0], mask=None, histSize=[255], ranges=[0,255])\n",
    "plt.plot(hist_vals0)\n",
    "plt.title('RGB R channel')"
   ]
  },
  {
   "cell_type": "code",
   "execution_count": null,
   "id": "20b1b62f-c0f0-4e47-97c9-783815ceaa9c",
   "metadata": {
    "tags": []
   },
   "outputs": [],
   "source": [
    "#hist for G channel\n",
    "hist_vals1 = cv2.calcHist([RGB_img_fixed], channels=[1], mask=None, histSize=[255], ranges=[0,255])\n",
    "plt.plot(hist_vals1)\n",
    "plt.title('RGB G channel')"
   ]
  },
  {
   "cell_type": "code",
   "execution_count": null,
   "id": "b8ed3e1f-8893-4437-864e-9b2da4bb3ce7",
   "metadata": {
    "tags": []
   },
   "outputs": [],
   "source": [
    "#hist for B channel\n",
    "hist_vals2 = cv2.calcHist([RGB_img_fixed], channels=[2], mask=None, histSize=[255], ranges=[0,255])\n",
    "plt.plot(hist_vals2)\n",
    "plt.title('RGB B channel')"
   ]
  },
  {
   "cell_type": "code",
   "execution_count": null,
   "id": "80c618db-f840-4b55-9def-d605e0f09f54",
   "metadata": {},
   "outputs": [],
   "source": []
  },
  {
   "cell_type": "code",
   "execution_count": null,
   "id": "757f3fd1-2ea9-465f-906b-ae78271863b9",
   "metadata": {
    "tags": []
   },
   "outputs": [],
   "source": [
    "#comparing\n",
    "#RGBimg = RGB_img_fixed\n",
    "color = ('r','g','b')\n",
    "for i,col in enumerate(color):\n",
    "    histr = cv2.calcHist([RGB_img_fixed],[i],None,[256],[0,256])\n",
    "    plt.plot(histr,color = col)\n",
    "    plt.xlim([0,256])\n",
    "plt.title('RGB_img_fixed Image')\n",
    "plt.show()"
   ]
  },
  {
   "cell_type": "code",
   "execution_count": null,
   "id": "af02d9c6-3866-4360-bf81-b27c628d0185",
   "metadata": {},
   "outputs": [],
   "source": []
  },
  {
   "cell_type": "code",
   "execution_count": null,
   "id": "99f95793-2217-4f65-8cfe-bc9a34bb2900",
   "metadata": {},
   "outputs": [],
   "source": []
  },
  {
   "cell_type": "code",
   "execution_count": null,
   "id": "ccd9f669-9dcc-4fe0-b05c-30ad7f56754f",
   "metadata": {
    "tags": []
   },
   "outputs": [],
   "source": [
    "#####################################################   creating HSV image"
   ]
  },
  {
   "cell_type": "code",
   "execution_count": null,
   "id": "b91c3b99-0d3d-4e88-8331-009c0706d72b",
   "metadata": {},
   "outputs": [],
   "source": []
  },
  {
   "cell_type": "code",
   "execution_count": null,
   "id": "8a08d15f-0673-4827-a1c9-866d54dde8e8",
   "metadata": {},
   "outputs": [],
   "source": []
  },
  {
   "cell_type": "code",
   "execution_count": null,
   "id": "2c39d9ac-e9db-4c0e-b5c7-bf0440b55cd6",
   "metadata": {
    "tags": []
   },
   "outputs": [],
   "source": [
    "#reading img\n",
    "new_img = cv2.imread('2.jpg')\n",
    "\n",
    "#convering to HSV\n",
    "HSV_img = cv2.cvtColor(new_img, cv2.COLOR_BGR2HSV)\n",
    "plt.imshow(HSV_img)"
   ]
  },
  {
   "cell_type": "code",
   "execution_count": null,
   "id": "d57ad104-3365-4451-a7ca-7ec5d76038e5",
   "metadata": {
    "tags": []
   },
   "outputs": [],
   "source": [
    "hist_vals2 = cv2.calcHist([HSV_img], channels=[0], mask=None, histSize=[255], ranges=[0,255])\n",
    "plt.plot(hist_vals2)\n",
    "plt.title('HSV H channel')"
   ]
  },
  {
   "cell_type": "code",
   "execution_count": null,
   "id": "a35db7ff-1e9c-43dd-940b-75f694e3a147",
   "metadata": {
    "tags": []
   },
   "outputs": [],
   "source": [
    "hist_vals2 = cv2.calcHist([HSV_img], channels=[1], mask=None, histSize=[255], ranges=[0,255])\n",
    "plt.plot(hist_vals2)\n",
    "plt.title('HSV S channel')"
   ]
  },
  {
   "cell_type": "code",
   "execution_count": null,
   "id": "918a54d3-6eca-46f9-907b-fbb7a21c7f3a",
   "metadata": {
    "tags": []
   },
   "outputs": [],
   "source": [
    "hist_vals2 = cv2.calcHist([HSV_img], channels=[2], mask=None, histSize=[255], ranges=[0,255])\n",
    "plt.plot(hist_vals2)\n",
    "plt.title('HSV V channel')"
   ]
  },
  {
   "cell_type": "code",
   "execution_count": null,
   "id": "f00e69b4-3173-4894-acec-98250caf141b",
   "metadata": {
    "tags": []
   },
   "outputs": [],
   "source": [
    "#comparing\n",
    "color = ('r','g','b')\n",
    "for i,col in enumerate(color):\n",
    "    histr = cv2.calcHist([HSV_img],[i],None,[256],[0,256])\n",
    "    plt.plot(histr,color = col)\n",
    "    plt.xlim([0,256])\n",
    "plt.title('HSV_img Image')\n",
    "plt.show()"
   ]
  },
  {
   "cell_type": "code",
   "execution_count": null,
   "id": "6f0eea2a-b719-41df-8656-82612138e559",
   "metadata": {},
   "outputs": [],
   "source": []
  },
  {
   "cell_type": "code",
   "execution_count": null,
   "id": "4761eab7-cc11-4c4b-9165-12488907f1dd",
   "metadata": {},
   "outputs": [],
   "source": []
  },
  {
   "cell_type": "code",
   "execution_count": null,
   "id": "a9e04d16-9e0c-453e-90e7-d74b68f27b5a",
   "metadata": {},
   "outputs": [],
   "source": [
    "#####################################################   creating HLS image"
   ]
  },
  {
   "cell_type": "code",
   "execution_count": null,
   "id": "30f1035d-a390-4852-861d-2a6d7d88074a",
   "metadata": {},
   "outputs": [],
   "source": []
  },
  {
   "cell_type": "code",
   "execution_count": null,
   "id": "377fb12d-222e-484d-aa7f-6bf2a271b85c",
   "metadata": {},
   "outputs": [],
   "source": []
  },
  {
   "cell_type": "code",
   "execution_count": null,
   "id": "6311da3c-77ff-4eb1-8775-4ad221cde5a1",
   "metadata": {
    "tags": []
   },
   "outputs": [],
   "source": [
    "#reading img\n",
    "new_img2 = cv2.imread('2.jpg')\n",
    "\n",
    "#convering to HSV\n",
    "HLS_img = cv2.cvtColor(new_img2, cv2.COLOR_BGR2HLS)\n",
    "plt.imshow(HLS_img)"
   ]
  },
  {
   "cell_type": "code",
   "execution_count": null,
   "id": "c313537e-c0c5-4c24-8d7b-81b807c635cf",
   "metadata": {
    "tags": []
   },
   "outputs": [],
   "source": [
    "hist_vals_HLS_0 = cv2.calcHist([HLS_img], channels=[0], mask=None, histSize=[255], ranges=[0,255])\n",
    "plt.plot(hist_vals_HLS_0)\n",
    "plt.title('HLS H channel')"
   ]
  },
  {
   "cell_type": "code",
   "execution_count": null,
   "id": "c4ec4817-7266-4ce8-992e-e01cd6275dda",
   "metadata": {
    "tags": []
   },
   "outputs": [],
   "source": [
    "hist_vals_HLS_1 = cv2.calcHist([HLS_img], channels=[1], mask=None, histSize=[255], ranges=[0,255])\n",
    "plt.plot(hist_vals_HLS_1)\n",
    "plt.title('HLS L channel')"
   ]
  },
  {
   "cell_type": "code",
   "execution_count": null,
   "id": "6fdb64dd-3f1e-4fdf-ae67-9aedcb501a88",
   "metadata": {
    "tags": []
   },
   "outputs": [],
   "source": [
    "hist_vals_HLS_2 = cv2.calcHist([HLS_img], channels=[2], mask=None, histSize=[255], ranges=[0,255])\n",
    "plt.plot(hist_vals_HLS_2)\n",
    "plt.title('HLS S channel')"
   ]
  },
  {
   "cell_type": "code",
   "execution_count": null,
   "id": "2b8a2540-2ae4-4da8-9c08-1b93fbf6264e",
   "metadata": {},
   "outputs": [],
   "source": [
    "#comparing\n",
    "color = ('r','g','b')\n",
    "for i,col in enumerate(color):\n",
    "    histr = cv2.calcHist([HLS_img],[i],None,[256],[0,256])\n",
    "    plt.plot(histr,color = col)\n",
    "    plt.xlim([0,256])\n",
    "plt.title('HLS_img Image')\n",
    "plt.show()"
   ]
  }
 ],
 "metadata": {
  "kernelspec": {
   "display_name": "Python 3 (ipykernel)",
   "language": "python",
   "name": "python3"
  },
  "language_info": {
   "codemirror_mode": {
    "name": "ipython",
    "version": 3
   },
   "file_extension": ".py",
   "mimetype": "text/x-python",
   "name": "python",
   "nbconvert_exporter": "python",
   "pygments_lexer": "ipython3",
   "version": "3.11.5"
  }
 },
 "nbformat": 4,
 "nbformat_minor": 5
}
